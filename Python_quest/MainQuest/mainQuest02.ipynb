{
  "nbformat": 4,
  "nbformat_minor": 0,
  "metadata": {
    "colab": {
      "provenance": [],
      "authorship_tag": "ABX9TyP9k79lSX1K3g6ejvpN1tA6",
      "include_colab_link": true
    },
    "kernelspec": {
      "name": "python3",
      "display_name": "Python 3"
    },
    "language_info": {
      "name": "python"
    }
  },
  "cells": [
    {
      "cell_type": "markdown",
      "metadata": {
        "id": "view-in-github",
        "colab_type": "text"
      },
      "source": [
        "<a href=\"https://colab.research.google.com/github/JeMinYoo/Aiffel-Quest/blob/master/Python_quest/MainQuest/mainQuest02.ipynb\" target=\"_parent\"><img src=\"https://colab.research.google.com/assets/colab-badge.svg\" alt=\"Open In Colab\"/></a>"
      ]
    },
    {
      "cell_type": "code",
      "execution_count": 1,
      "metadata": {
        "colab": {
          "base_uri": "https://localhost:8080/"
        },
        "id": "YSCN1kyHXeie",
        "outputId": "653ce654-b0fb-49b1-cafb-77e66471c27b"
      },
      "outputs": [
        {
          "output_type": "stream",
          "name": "stdout",
          "text": [
            "이름 : 유제민 학번 : 2431202 점수 : 0 패널티 : 0 총점 : 0\n",
            "이름 : 홍길동 학번 : 2431103 점수 : 0 패널티 : 0 총점 : 0\n",
            "이름 : 고길동 학번 : 2431201 점수 : 0 패널티 : 0 총점 : 0\n",
            "이름 : 유제민 학번 : 2431202 점수 : 10 패널티 : 5 총점 : 5\n",
            "이름 : 홍길동 학번 : 2431103 점수 : 5 패널티 : 1 총점 : 4\n",
            "이름 : 고길동 학번 : 2431201 점수 : 3 패널티 : 4 총점 : -1\n"
          ]
        }
      ],
      "source": [
        "class Aiffel:\n",
        "\n",
        "    studentList = []\n",
        "\n",
        "    def __init__(self, name, year, generation, type):\n",
        "        self.name = name\n",
        "        self.year = year\n",
        "        self.type = type\n",
        "        self.generation = generation\n",
        "        self.total_score = 0\n",
        "        self.give_point = 0\n",
        "        self.deduction_point = 0\n",
        "        self.id = ''\n",
        "        Aiffel.studentList.append(self)\n",
        "        self.assign_ids()\n",
        "\n",
        "    @classmethod\n",
        "    def assign_ids(cls):\n",
        "        sorted_students = sorted(cls.studentList, key=lambda s: s.name)\n",
        "        for idx, student in enumerate(sorted_students):\n",
        "            student.student_id(idx + 1)\n",
        "\n",
        "    def student_id(self, number):\n",
        "        yy = str(self.year)[-2:]\n",
        "        nn = str(self.generation)\n",
        "        if self.type == '리서치':\n",
        "            c = str(1)\n",
        "        else:\n",
        "            c = str(2)\n",
        "        xx = str(number).zfill(2)\n",
        "\n",
        "        self.id = '{0}{1}{2}{3}'.format(yy,nn,c,xx)\n",
        "\n",
        "    def score_give(self, point):\n",
        "        self.give_point += point\n",
        "        self.total_score += point\n",
        "\n",
        "\n",
        "    def score_deduction(self, point):\n",
        "        self.deduction_point += point\n",
        "        self.total_score -= point\n",
        "\n",
        "    @classmethod\n",
        "    def print_students(cls):\n",
        "        for student in cls.studentList:\n",
        "            print(student)\n",
        "\n",
        "    def __repr__(self):\n",
        "        return \"이름 : {0} 학번 : {1} 점수 : {2} 패널티 : {3} 총점 : {4}\".format(self.name, self.id, self.give_point, self.deduction_point, self.total_score)\n",
        "\n",
        "\n",
        "\n",
        "\n",
        "\n",
        "a = Aiffel('유제민', 2024, 31, '코어')\n",
        "b = Aiffel('홍길동', 2024, 31, '리서치')\n",
        "c = Aiffel('고길동', 2024, 31, '코어')\n",
        "\n",
        "Aiffel.print_students()\n",
        "\n",
        "a.score_give(10)\n",
        "a.score_deduction(5)\n",
        "b.score_give(5)\n",
        "b.score_deduction(1)\n",
        "c.score_give(3)\n",
        "c.score_deduction(4)\n",
        "\n",
        "\n",
        "Aiffel.print_students()"
      ]
    }
  ]
}