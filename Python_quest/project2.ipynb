{
  "nbformat": 4,
  "nbformat_minor": 0,
  "metadata": {
    "colab": {
      "provenance": [],
      "authorship_tag": "ABX9TyOBXKqn8yHUDha7+BQlJmUB",
      "include_colab_link": true
    },
    "kernelspec": {
      "name": "python3",
      "display_name": "Python 3"
    },
    "language_info": {
      "name": "python"
    }
  },
  "cells": [
    {
      "cell_type": "markdown",
      "metadata": {
        "id": "view-in-github",
        "colab_type": "text"
      },
      "source": [
        "<a href=\"https://colab.research.google.com/github/JeMinYoo/Aiffel-Quest/blob/master/Python_quest/project2.ipynb\" target=\"_parent\"><img src=\"https://colab.research.google.com/assets/colab-badge.svg\" alt=\"Open In Colab\"/></a>"
      ]
    },
    {
      "cell_type": "markdown",
      "source": [
        "사각형 넓이 구하기"
      ],
      "metadata": {
        "id": "_k1E6ytC6W9s"
      }
    },
    {
      "cell_type": "code",
      "execution_count": 6,
      "metadata": {
        "colab": {
          "base_uri": "https://localhost:8080/",
          "height": 146
        },
        "id": "bdeaUNIr4y2c",
        "outputId": "4af88e92-1490-425f-e1bc-5d1792dd8f28"
      },
      "outputs": [
        {
          "name": "stdout",
          "output_type": "stream",
          "text": [
            "넓이를 구하고 싶은 사각형의 숫자를 써주세요.\n",
            " 1.직사각형 2.평행사변형 3.사다리꼴 \n",
            " >>>3\n",
            "사다리꼴 함수는 trape()입니다.\n",
            "윗변, 아랫변, 높이를 입력하세요. 예시 : 윗변,아랫변,높이\n",
            " >>>6,2,6\n"
          ]
        },
        {
          "output_type": "execute_result",
          "data": {
            "text/plain": [
              "'사다리꼴의 넓이는 : 24.0'"
            ],
            "application/vnd.google.colaboratory.intrinsic+json": {
              "type": "string"
            }
          },
          "metadata": {},
          "execution_count": 6
        }
      ],
      "source": [
        "# 사각형 넓이를 구하는 클래스 완성!\n",
        "class Square:\n",
        "    def __init__(self):\n",
        "        self.square = int(input('넓이를 구하고 싶은 사각형의 숫자를 써주세요.\\n 1.직사각형 2.평행사변형 3.사다리꼴 \\n >>>'))\n",
        "\n",
        "        if self.square == 1:\n",
        "            print('직사각형 함수는 rect()입니다.')\n",
        "\n",
        "        elif self.square == 2:\n",
        "            print('평행사변형 함수는 par()입니다.')\n",
        "\n",
        "        elif self.square == 3:\n",
        "            print('사다리꼴 함수는 trape()입니다.')\n",
        "\n",
        "        else:\n",
        "            print('1, 2, 3 중에서 다시 입력해주세요')\n",
        "\n",
        "    def rect(self):\n",
        "        width, vertical = map(int, input('가로, 세로를 입력하세요. 예시 : 가로,세로\\n >>>').split(','))\n",
        "        area = width * vertical\n",
        "        result = '직사각형의 넓이는 : ' + str(area)\n",
        "        return result\n",
        "\n",
        "    def par(self):\n",
        "        width, vertical = map(int, input('밑변, 높이를 입력하세요. 예시 : 밑변,높이\\n >>>').split(','))\n",
        "        area = width * vertical\n",
        "        result = '평행사변형의 넓이는 : ' + str(area)\n",
        "        return result\n",
        "\n",
        "    def trape(self):\n",
        "        width1, width2, vertical = map(int, input('윗변, 아랫변, 높이를 입력하세요. 예시 : 윗변,아랫변,높이\\n >>>').split(','))\n",
        "        area = (width1 + width2) * vertical / 2\n",
        "        result = '사다리꼴의 넓이는 : ' + str(area)\n",
        "        return result\n",
        "\n",
        "a = Square()\n",
        "a.trape()"
      ]
    },
    {
      "cell_type": "markdown",
      "source": [
        "키오스크 만들기"
      ],
      "metadata": {
        "id": "ygYrK2mM6XN3"
      }
    },
    {
      "cell_type": "code",
      "source": [
        "# 전체 메뉴와 가격\n",
        "menu = ['americano', 'latte', 'mocha', 'yuza_tea', 'green_tea', 'choco_latte']\n",
        "price = [2000, 3000, 3000, 2500, 2500, 3000]\n",
        "\n",
        "# 문제 2-4. 추가 주문\n",
        "# 추가 음료의 온도를 입력받고, 가격 리스트와 주문 리스트, 합계 금액을 업데이트합니다.\n",
        "class Kiosk:\n",
        "    def __init__(self):\n",
        "        # 문제 2-1의 답을 입력하세요.\n",
        "        self.menu = menu\n",
        "        self.price = price\n",
        "\n",
        "    # 메뉴 출력 메서드\n",
        "    def menu_print(self):\n",
        "        for i in range(len(self.menu)):\n",
        "            print(i + 1, self.menu[i], ' : ', self.price[i], '원')\n",
        "    def menu_select(self):\n",
        "        self.order_menu = []  # 주문 리스트\n",
        "        self.order_price = []  # 가격 리스트\n",
        "\n",
        "        n = 0\n",
        "        while n < 1 or len(menu) < n:\n",
        "            n = int(input(\"음료를 번호를 입력하세요 : \"))  # 음료 번호 입력\n",
        "\n",
        "            # 메뉴판에 있는 음료 번호일 때\n",
        "            if 1 <= n & n <= len(menu):\n",
        "                self.order_price.append(self.price[n-1])  # 가격 리스트에 추가합니다.\n",
        "                self.price_sum = self.price[n-1]  # 합계 금액\n",
        "\n",
        "            # 메뉴판에 없는 번호일 때\n",
        "            else:\n",
        "                print(\"없는 메뉴입니다. 다시 주문해 주세요.\")\n",
        "\n",
        "\n",
        "        # 음료 온도 물어보기\n",
        "        t = 0  # 기본값을 넣어주고\n",
        "        while t != 1 and t != 2:  # 1이나 2를 입력할 때까지 물어보기\n",
        "            t= int(input(\"HOT 음료는 1을, ICE 음료는 2를 입력하세요 : \"))\n",
        "            # 문제 2-3의 답을 입력하세요.\n",
        "            if t == 1:\n",
        "             self.temp = 'HOT'\n",
        "            elif t == 2:\n",
        "                self.temp = 'ICE'\n",
        "            else:\n",
        "                print(\"1과 2 중 하나를 입력하세요.\\n\")\n",
        "\n",
        "        self.order_menu.append(self.temp + ' ' + self.menu[n-1])  # 주문 리스트에 추가합니다.\n",
        "        # 문제 2-2의 답을 입력하세요.\n",
        "        print('주문 음료', self.temp, menu[n-1], ' : ', price[n-1], '원')  # 온도 속성을 추가한 주문 결과를 출력합니다.\n",
        "\n",
        "        # 추가 주문 또는 지불\n",
        "        while n != 0:  # 지불을 선택하기 전까지 반복합니다.\n",
        "            print()  # 줄 바꾸면서\n",
        "            n = int(input(\"추가 주문은 음료 번호를, 지불은 0을 누르세요 : \"))  # 추가 주문 또는 지불\n",
        "            if n > 0 and n < len(self.menu) + 1:\n",
        "                # 추가 음료 온도\n",
        "                # 문제 2-4. 추가 음료의 온도를 입력받고, 가격 리스트, 주문 리스트, 합계 금액을 업데이트해보세요.\n",
        "                self.order_price.append(self.price[n-1])  # 가격 리스트에 추가합니다.\n",
        "                self.price_sum += self.price[n-1]  # 합계 금액\n",
        "\n",
        "                # 음료 온도 물어보기\n",
        "                t = 0\n",
        "                while t != 1 and t != 2:\n",
        "                    t= int(input(\"HOT 음료는 1을, ICE 음료는 2를 입력하세요 : \"))\n",
        "                    if t == 1:\n",
        "                        self.temp = 'HOT'\n",
        "                    elif t == 2:\n",
        "                        self.temp = 'ICE'\n",
        "                    else:\n",
        "                        print(\"1과 2 중 하나를 입력하세요.\\n\")\n",
        "\n",
        "                self.order_menu.append(self.temp + ' ' + self.menu[n-1])\n",
        "                print('추가 주문 음료', self.temp, menu[n-1], ':', price[n-1], '원\\n', '합계 : ', self.price_sum, '원')\n",
        "\n",
        "            else :\n",
        "                if n == 0 :  # 지불을 입력하면\n",
        "                    print(\"주문이 완료되었습니다.\")\n",
        "                    print(self.order_menu, self.order_price)  # 확인을 위한 리스트를 출력합니다.\n",
        "                else :  # 없는 번호를 입력할 때\n",
        "                    print(\"없는 메뉴입니다. 다시 주문해 주세요.\")\n",
        "\n",
        "    def pay(self):\n",
        "        p = 0\n",
        "        while p != 1 and p != 2:\n",
        "            p = int(input('현금 결제는 1을, 카드 결제는 2를 입력하세요 : '))\n",
        "            if p == 1:\n",
        "                print('현금 결제를 위해 직원을 호출합니다.')\n",
        "            elif p == 2:\n",
        "                print('IC칩 방향에 맞게 카드를 꽂아주세요.')\n",
        "            else:\n",
        "                print('1과 2 중 하나를 입력하세요. \\n')\n",
        "\n",
        "    def table(self):\n",
        "        # 외곽\n",
        "        print('⟝' + '-' * 30 + '⟞')\n",
        "        for i in range(5):\n",
        "            print('|' + ' ' * 31 + '|')\n",
        "\n",
        "        # 주문 상품명 : 해당 금액\n",
        "        for i in range(len(self.order_menu)):\n",
        "            print(self.order_menu[i], ' : ', self.order_price[i])\n",
        "\n",
        "        print('합계 금액 :', self.price_sum)\n",
        "\n",
        "        # 외곽\n",
        "        for i in range(5):\n",
        "            print('|' + ' ' * 31+ '|')\n",
        "        print('⟝' + '-' * 30 + '⟞')\n",
        "\n",
        "\n",
        "# 5가지 이상의 음료를 주문하고 리스트 확인하기\n",
        "a = Kiosk()  # 객체 생성\n",
        "a.menu_print()  # 메뉴 출력\n",
        "a.menu_select()  # 주문\n",
        "a.pay()\n",
        "a.table()"
      ],
      "metadata": {
        "colab": {
          "base_uri": "https://localhost:8080/"
        },
        "id": "hg_ovdsQ6WgJ",
        "outputId": "cfa28376-452b-4780-e02c-f6d0f2445781"
      },
      "execution_count": 1,
      "outputs": [
        {
          "output_type": "stream",
          "name": "stdout",
          "text": [
            "1 americano  :  2000 원\n",
            "2 latte  :  3000 원\n",
            "3 mocha  :  3000 원\n",
            "4 yuza_tea  :  2500 원\n",
            "5 green_tea  :  2500 원\n",
            "6 choco_latte  :  3000 원\n",
            "음료를 번호를 입력하세요 : 3\n",
            "HOT 음료는 1을, ICE 음료는 2를 입력하세요 : 1\n",
            "주문 음료 HOT mocha  :  3000 원\n",
            "\n",
            "추가 주문은 음료 번호를, 지불은 0을 누르세요 : 6\n",
            "HOT 음료는 1을, ICE 음료는 2를 입력하세요 : 2\n",
            "추가 주문 음료 ICE choco_latte : 3000 원\n",
            " 합계 :  6000 원\n",
            "\n",
            "추가 주문은 음료 번호를, 지불은 0을 누르세요 : 1\n",
            "HOT 음료는 1을, ICE 음료는 2를 입력하세요 : 1\n",
            "추가 주문 음료 HOT americano : 2000 원\n",
            " 합계 :  8000 원\n",
            "\n",
            "추가 주문은 음료 번호를, 지불은 0을 누르세요 : 1\n",
            "HOT 음료는 1을, ICE 음료는 2를 입력하세요 : 2\n",
            "추가 주문 음료 ICE americano : 2000 원\n",
            " 합계 :  10000 원\n",
            "\n",
            "추가 주문은 음료 번호를, 지불은 0을 누르세요 : 3\n",
            "HOT 음료는 1을, ICE 음료는 2를 입력하세요 : 2\n",
            "추가 주문 음료 ICE mocha : 3000 원\n",
            " 합계 :  13000 원\n",
            "\n",
            "추가 주문은 음료 번호를, 지불은 0을 누르세요 : 0\n",
            "주문이 완료되었습니다.\n",
            "['HOT mocha', 'ICE choco_latte', 'HOT americano', 'ICE americano', 'ICE mocha'] [3000, 3000, 2000, 2000, 3000]\n",
            "현금 결제는 1을, 카드 결제는 2를 입력하세요 : 2\n",
            "IC칩 방향에 맞게 카드를 꽂아주세요.\n",
            "⟝------------------------------⟞\n",
            "|                               |\n",
            "|                               |\n",
            "|                               |\n",
            "|                               |\n",
            "|                               |\n",
            "HOT mocha  :  3000\n",
            "ICE choco_latte  :  3000\n",
            "HOT americano  :  2000\n",
            "ICE americano  :  2000\n",
            "ICE mocha  :  3000\n",
            "합계 금액 : 13000\n",
            "|                               |\n",
            "|                               |\n",
            "|                               |\n",
            "|                               |\n",
            "|                               |\n",
            "⟝------------------------------⟞\n"
          ]
        }
      ]
    }
  ]
}